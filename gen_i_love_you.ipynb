{
  "nbformat": 4,
  "nbformat_minor": 0,
  "metadata": {
    "colab": {
      "name": "gen_i_love_you.ipynb",
      "provenance": [],
      "authorship_tag": "ABX9TyOzcPDziwJ1J67YlNDXhQt9",
      "include_colab_link": true
    },
    "kernelspec": {
      "name": "python3",
      "display_name": "Python 3"
    },
    "language_info": {
      "name": "python"
    }
  },
  "cells": [
    {
      "cell_type": "markdown",
      "metadata": {
        "id": "view-in-github",
        "colab_type": "text"
      },
      "source": [
        "<a href=\"https://colab.research.google.com/github/Ouvill/gen_i_love_you/blob/main/gen_i_love_you.ipynb\" target=\"_parent\"><img src=\"https://colab.research.google.com/assets/colab-badge.svg\" alt=\"Open In Colab\"/></a>"
      ]
    },
    {
      "cell_type": "markdown",
      "metadata": {
        "id": "sUWQKYvcojdT"
      },
      "source": [
        "## このノートブックについて\n",
        "\n",
        "「あなたが好きです」に続く文章を自動で生成するノートブックです。\n",
        "\n",
        "生成する文章を変えたい場合、「あなたが好きです」の文言を変更してください。\n",
        "\n",
        "文章を生成する方法は「ランタイム」->「すべてのセルを実行」で行えます。\n",
        "\n",
        "一度実行した後は、各セルの左側の「再生」ボタンでセルごとに実行できます。\n",
        "    \n"
      ]
    },
    {
      "cell_type": "code",
      "metadata": {
        "id": "Nk74-r01gLWp"
      },
      "source": [
        "# Huggingface Transformersのインストール\n",
        "!pip install transformers\n",
        "\n",
        "# Sentencepieceのインストール\n",
        "!pip install sentencepiece"
      ],
      "execution_count": null,
      "outputs": []
    },
    {
      "cell_type": "code",
      "metadata": {
        "id": "L-CYYRBTe7j5"
      },
      "source": [
        "from transformers import T5Tokenizer, AutoModelForCausalLM\n"
      ],
      "execution_count": null,
      "outputs": []
    },
    {
      "cell_type": "code",
      "metadata": {
        "id": "XhywFSdcfI4K"
      },
      "source": [
        "tokenizer = T5Tokenizer.from_pretrained(\"rinna/japanese-gpt2-medium\")\n",
        "\n",
        "model = AutoModelForCausalLM.from_pretrained(\"rinna/japanese-gpt2-medium\")"
      ],
      "execution_count": null,
      "outputs": []
    },
    {
      "cell_type": "code",
      "metadata": {
        "id": "OoJB-yXcpMiY"
      },
      "source": [
        "phrase = f'あなたが好きです。'\n",
        "# Tokenize input phrase\n",
        "inputs = tokenizer.encode(phrase, return_tensors='pt')\n",
        "output = model.generate(inputs, do_sample=True, max_length=65, num_return_sequences=5)\n",
        "\n",
        "for sentence in tokenizer.batch_decode(output):\n",
        "  print(sentence)"
      ],
      "execution_count": null,
      "outputs": []
    },
    {
      "cell_type": "markdown",
      "metadata": {
        "id": "zBvxvZekhdjk"
      },
      "source": [
        "## 備考\n",
        "\n",
        "```\n",
        "output = model.generate(inputs, do_sample=True, max_length=65, num_return_sequences=5)\n",
        "```\n",
        "\n",
        "上記コードで文章を生成しています。生成する文章の長さは`max_length`の数値によって変わります。\n",
        "\n",
        "生成する文の数は、`num_return_sequence`によって変わります。"
      ]
    },
    {
      "cell_type": "markdown",
      "metadata": {
        "id": "R3dgMAzJhBfd"
      },
      "source": [
        "参考\n",
        " - [Huggingface Transformers 入門 (27) - rinnaの日本語GPT-2モデルの推論](https://note.com/npaka/n/n96dde45fdf8d)\n",
        " - [Easy Causal Language Modeling with Machine Learning and HuggingFace Transformers](https://www.machinecurve.com/index.php/2021/03/03/easy-causal-language-modeling-with-machine-learning-and-huggingface-transformers/)\n"
      ]
    }
  ]
}